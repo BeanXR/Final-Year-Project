{
 "cells": [
  {
   "cell_type": "markdown",
   "metadata": {},
   "source": [
    "# Play a Sine wave"
   ]
  },
  {
   "cell_type": "code",
   "execution_count": 7,
   "metadata": {},
   "outputs": [],
   "source": [
    "# lib.initialize() \n",
    "# server = lib.Server()\n",
    "# sine = lib.SineNode(server) \n",
    "# sine.frequency = 0 \n",
    "\n",
    "# # sine.looping = True\n",
    "\n",
    "# sine.connect(0,server)\n",
    "# server.set_output_device(\"default\")\n",
    "\n",
    "# for i in range(0,1010,10): \n",
    "#     sine.mul.value = i/1000 \n",
    "#     sine.frequency.value = i \n",
    "#     time.sleep(0.05)\n",
    "\n",
    "# # sine.state = lib.NodeStates.paused\n",
    "# # time.sleep(5)\n",
    "# # sine.state = lib.NodeStates.playing"
   ]
  },
  {
   "cell_type": "markdown",
   "metadata": {},
   "source": [
    "# Using buffer to play files"
   ]
  },
  {
   "cell_type": "code",
   "execution_count": 8,
   "metadata": {},
   "outputs": [],
   "source": [
    "# server = lib.Server() \n",
    "# path = 'trumpet.wav'\n",
    "\n",
    "# buffer = lib.Buffer(server) \n",
    "# buffer.load_from_file(path) #now buffer contains decoded, resampled audio of 'trumpet.wav'\n",
    "\n",
    "# buffer_player = lib.BufferNode(server) #create a buffer node \n",
    "# buffer_player.buffer = buffer #assign buffer node to buffer containing 'trumpet.wav'\n",
    "\n",
    "# # buffer_player.looping = True #allow buffer to replay if neeeded \n",
    "\n",
    "# buffer_player.connect(0,server)  \n",
    "# server.set_output_device(\"default\") \n",
    "\n",
    "# while True: \n",
    "    \n",
    "#     print(\"command?\\n\")\n",
    "#     command = input()\n",
    "    \n",
    "#     if(command == 'play'):\n",
    "#         buffer_player.state = lib.NodeStates.playing \n",
    "#     elif(command == 'pause'):\n",
    "#         buffer_player.state = lib.NodeStates.paused\n",
    "#     elif(command == 'stop'): \n",
    "#         break \n",
    "        \n",
    "# lib.shutdown() "
   ]
  },
  {
   "cell_type": "markdown",
   "metadata": {},
   "source": [
    "# Panning"
   ]
  },
  {
   "cell_type": "code",
   "execution_count": 9,
   "metadata": {},
   "outputs": [],
   "source": [
    "s=lib.Server()\n",
    "from IPython.display import clear_output\n",
    "\n",
    "buffer_player  = lib.BufferNode(s)\n",
    "buffer = lib.Buffer(s)\n",
    "\n",
    "path = 'trumpet.wav'\n",
    "# path = 'Three Little Pigs.wav'\n",
    "buffer.load_from_file(path)\n",
    "buffer_player.buffer = buffer\n",
    "buffer_player.looping = True\n",
    "\n",
    "panner=lib.MultipannerNode(s, \"default\")\n",
    "buffer_player.connect(0, panner, 0)\n",
    "panner.connect(0, s)\n",
    "panner.strategy = lib.PanningStrategies.hrtf\n",
    "s.set_output_device('default')\n",
    "\n",
    "angle = 90\n",
    "panner.azimuth = angle\n",
    "# panner.elevation = angle\n",
    "\n",
    "### ELEVATION ###\n",
    "# while True: \n",
    "    \n",
    "#     for i in range(75,90,1): \n",
    "#         print(1)\n",
    "#         print('elevation angle: ',angle)\n",
    "#         angle = i \n",
    "#         time.sleep(0.5)\n",
    "#         panner.elevation = angle\n",
    "#         clear_output(wait=True)\n",
    "        \n",
    "#     for i in range(90,-90,-1): \n",
    "#         print(2)\n",
    "#         print('elevation angle: ',angle)\n",
    "#         angle = i \n",
    "#         time.sleep(0.5)\n",
    "#         panner.elevation = angle\n",
    "#         clear_output(wait=True)\n",
    "            \n",
    "#     for i in range(-90,90,1): \n",
    "#         print(3)\n",
    "#         print('elevation angle: ',angle)\n",
    "#         angle = i \n",
    "#         time.sleep(0.5)\n",
    "#         panner.elevation = angle\n",
    "#         clear_output(wait=True)\n",
    "\n",
    "### AZIMUTH ###\n",
    "# while True: \n",
    "#     print('azimuth angle: ',angle)\n",
    "#     panner.azimuth = angle\n",
    "#     time.sleep(0.5)\n",
    "#     angle = angle + 1 #if >360, will wrap. \n",
    "#     clear_output(wait=True)\n",
    "    "
   ]
  },
  {
   "cell_type": "code",
   "execution_count": 10,
   "metadata": {},
   "outputs": [],
   "source": [
    "buffer_player.looping = False"
   ]
  },
  {
   "cell_type": "markdown",
   "metadata": {},
   "source": [
    "# 3D by changing position "
   ]
  },
  {
   "cell_type": "code",
   "execution_count": null,
   "metadata": {},
   "outputs": [
    {
     "name": "stdout",
     "output_type": "stream",
     "text": [
      "x position: 80\n",
      "x1 position: -80\n"
     ]
    }
   ],
   "source": [
    "from IPython.display import clear_output\n",
    "song = 'Three Little Pigs.wav'\n",
    "song1 = 'Trumpet.wav'\n",
    "\n",
    "server = lib.Server()\n",
    "server1 = lib.Server() \n",
    "\n",
    "#song 1 \n",
    "buffer_song = lib.Buffer(server) \n",
    "buffer_song.load_from_file(song)\n",
    "\n",
    "buffer_node = lib.BufferNode(server)\n",
    "buffer_node.buffer = buffer_song\n",
    "\n",
    "buffer_node.looping = True \n",
    "\n",
    "# #song 2\n",
    "# buffer_song1 = lib.Buffer(server1)\n",
    "# buffer_song1.load_from_file(song1)\n",
    "\n",
    "# buffer_node1 = lib.BufferNode(server1)\n",
    "# buffer_node1.buffer = buffer_song1\n",
    "\n",
    "# buffer_node1.looping = True\n",
    "\n",
    "#################################################################\n",
    "\n",
    "#create an environment which represents the listener  \n",
    "env = lib.EnvironmentNode(server, \"default\")\n",
    "\n",
    "env.panning_strategy = lib.PanningStrategies.hrtf\n",
    "env.output_channels = 2 #set number of output channels\n",
    "env.connect(0, server) #connect channel zero of environment 'e' to server\n",
    "env.connect(0,server1)\n",
    "\n",
    "server.set_output_device('default')\n",
    "server1.set_output_device('default')\n",
    "\n",
    "env.position = [0,0,0] #x,y,z coordinate of listener/environment\n",
    "\n",
    "#create a source\n",
    "#song 1 \n",
    "source = lib.SourceNode(server, env)\n",
    "buffer_node.connect(0, source, 0) #connect output of buffer node to input of source \n",
    "\n",
    "#song 2 \n",
    "source1 = lib.SourceNode(server1, env)\n",
    "buffer_node1.connect(0, source1, 0) #connect output of buffer node to input of source \n",
    "\n",
    "#sources are ALWAYS connected to the environment with which they were created. \n",
    "x = -150\n",
    "y = 0\n",
    "z = 0\n",
    "\n",
    "x1 = 150 \n",
    "\n",
    "while True: \n",
    "    clear_output(wait=True)\n",
    "    print('x position:',x)\n",
    "    print('x1 position:',x1)\n",
    "    \n",
    "    #negative z is forward \n",
    "    source.position = [x,y,z]\n",
    "    source1.position = [x1,y,z]\n",
    "#     source.orientation = [0,1,0,0,0,1]\n",
    "\n",
    "    time.sleep(0.5)\n",
    "    x = x + 5\n",
    "    x1 = x1 - 5 \n",
    "    \n",
    "    #\"hearing distance\" : x and y :-150 to 150 \n",
    "    if x > 150: \n",
    "        break \n",
    "\n",
    "buffer_node.looping = False"
   ]
  },
  {
   "cell_type": "code",
   "execution_count": 5,
   "metadata": {},
   "outputs": [
    {
     "name": "stdout",
     "output_type": "stream",
     "text": [
      "z position: 0\n"
     ]
    }
   ],
   "source": [
    "song1 = 'Three Little Pigs.wav'\n",
    "audio(song1)\n",
    "song2 = 'Fox and Crow.wav'\n",
    "audio(song2)"
   ]
  },
  {
   "cell_type": "code",
   "execution_count": 3,
   "metadata": {
    "scrolled": false
   },
   "outputs": [],
   "source": [
    "import libaudioverse as lib\n",
    "import time\n",
    "import wave\n",
    "lib.initialize() "
   ]
  },
  {
   "cell_type": "code",
   "execution_count": 6,
   "metadata": {},
   "outputs": [],
   "source": [
    "def start_play_audio(no_audios):\n",
    "    print('AUDIO CALLED')\n",
    "    song = 'audio/Three Little Pigs.wav' #class 0 \n",
    "    song1 = 'audio/Treasure.wav'#class 1\n",
    "\n",
    "    server = lib.Server()\n",
    "\n",
    "    #song 1 \n",
    "    buffer_song = lib.Buffer(server) \n",
    "    buffer_song.load_from_file(song)\n",
    "\n",
    "    buffer_node = lib.BufferNode(server)\n",
    "    buffer_node.buffer = buffer_song\n",
    "\n",
    "    buffer_node.looping = True \n",
    "\n",
    "    if(no_audios == 2):\n",
    "        print(\"PLAYING TWO AUDIO FILES\")\n",
    "        server1 = lib.Server() \n",
    "        #song 2\n",
    "        buffer_song1 = lib.Buffer(server1)\n",
    "        buffer_song1.load_from_file(song1)\n",
    "\n",
    "        buffer_node1 = lib.BufferNode(server1)\n",
    "        buffer_node1.buffer = buffer_song1\n",
    "        buffer_node1.buffer = buffer_song1\n",
    "\n",
    "        buffer_node1.looping = True\n",
    "    else: \n",
    "        print(\"PLAYING ONE AUDIO FILE\")\n",
    "\n",
    "    #create an environment which represents the listener  \n",
    "    env = lib.EnvironmentNode(server, \"default\")\n",
    "\n",
    "    env.panning_strategy = lib.PanningStrategies.hrtf\n",
    "    env.output_channels = 2 #set number of output channels\n",
    "    env.position = [0,0,0] #x,y,z coordinate of listener/environment\n",
    "    \n",
    "    env.connect(0, server) #connect channel zero of environment 'e' to server\n",
    "    server.set_output_device('default')\n",
    "\n",
    "    #create a source\n",
    "    global source_audio \n",
    "\n",
    "    source_audio = lib.SourceNode(server, env)\n",
    "    buffer_node.connect(0, source_audio, 0) #connect output of buffer node to input of source \n",
    "\n",
    "    if(no_audios == 2): \n",
    "        print(\"CONNECTED AUDIO 2 to Environment\")\n",
    "        env.connect(0,server1)\n",
    "        server1.set_output_device('default')\n",
    "\n",
    "        global source_audio1\n",
    "        source_audio1 = lib.SourceNode(server1, env)\n",
    "        buffer_node1.connect(0, source_audio1, 0) #connect output of buffer node to input of source "
   ]
  },
  {
   "cell_type": "code",
   "execution_count": 7,
   "metadata": {},
   "outputs": [
    {
     "name": "stdout",
     "output_type": "stream",
     "text": [
      "AUDIO CALLED\n",
      "PLAYING TWO AUDIO FILES\n",
      "CONNECTED AUDIO 2 to Environment\n"
     ]
    }
   ],
   "source": [
    "no_audios = 2\n",
    "start_play_audio(no_audios)"
   ]
  },
  {
   "cell_type": "code",
   "execution_count": null,
   "metadata": {},
   "outputs": [],
   "source": []
  }
 ],
 "metadata": {
  "kernelspec": {
   "display_name": "Python 3",
   "language": "python",
   "name": "python3"
  },
  "language_info": {
   "codemirror_mode": {
    "name": "ipython",
    "version": 3
   },
   "file_extension": ".py",
   "mimetype": "text/x-python",
   "name": "python",
   "nbconvert_exporter": "python",
   "pygments_lexer": "ipython3",
   "version": "3.8.3"
  }
 },
 "nbformat": 4,
 "nbformat_minor": 2
}
