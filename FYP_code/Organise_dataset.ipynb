{
 "cells": [
  {
   "cell_type": "code",
   "execution_count": 4,
   "metadata": {},
   "outputs": [],
   "source": [
    "import numpy as np\n",
    "import cv2\n",
    "import matplotlib.pyplot as plt\n",
    "import os\n",
    "from PIL import Image\n",
    "import shutil"
   ]
  },
  {
   "cell_type": "markdown",
   "metadata": {},
   "source": [
    "# Split created Data Set into Train, Validation and Test"
   ]
  },
  {
   "cell_type": "code",
   "execution_count": 6,
   "metadata": {},
   "outputs": [
    {
     "name": "stdout",
     "output_type": "stream",
     "text": [
      "copying: FYP_images/Generated_images/Ernie/ernie_ Labels/ernie/ernie_\n",
      "copying: FYP_images/Generated_images/Dory/dory_ Labels/dory/dory_\n",
      "copying: FYP_images/Generated_images/Mix_front/mix_front_ Labels/mix_front/mix_front_\n",
      "copying: FYP_images/Generated_images/Mix_left/mix_left_ Labels/mix_left/mix_left_\n",
      "copying: FYP_images/Generated_images/Mix_right/mix_right_ Labels/mix_right/mix_right_\n",
      "copying: FYP_images/Generated_images/Front/front_ Labels/front/front_\n",
      "copying: FYP_images/Generated_images/Left/left_ Labels/left/left_\n",
      "copying: FYP_images/Generated_images/Right/right_ Labels/right/right_\n",
      "Done\n"
     ]
    }
   ],
   "source": [
    "#generated images path \n",
    "ernie_images = 'FYP_images/Generated_images/Ernie/ernie_'\n",
    "ernie_labels = 'Labels/ernie/ernie_'\n",
    "dory_images = 'FYP_images/Generated_images/Dory/dory_'\n",
    "dory_labels = 'Labels/dory/dory_'\n",
    "mix_front_images = 'FYP_images/Generated_images/Mix_front/mix_front_'\n",
    "mix_front_labels = 'Labels/mix_front/mix_front_'\n",
    "mix_left_images = 'FYP_images/Generated_images/Mix_left/mix_left_'\n",
    "mix_left_labels = 'Labels/mix_left/mix_left_'\n",
    "mix_right_images = 'FYP_images/Generated_images/Mix_right/mix_right_'\n",
    "mix_right_labels = 'Labels/mix_right/mix_right_'\n",
    "front_images = 'FYP_images/Generated_images/Front/front_'\n",
    "front_labels = 'Labels/front/front_'\n",
    "left_images = 'FYP_images/Generated_images/Left/left_'\n",
    "left_labels = 'Labels/left/left_'\n",
    "right_images = 'FYP_images/Generated_images/Right/right_'\n",
    "right_labels = 'Labels/right/right_'\n",
    "\n",
    "\n",
    "#dataset path for training yolov5\n",
    "train_img_dest = 'yolo/yolov5/dataset/images/train' \n",
    "train_label_dest = 'yolo/yolov5/dataset/labels/train'\n",
    "valid_img_dest = 'yolo/yolov5/dataset/images/validation' \n",
    "valid_label_dest = 'yolo/yolov5/dataset/labels/validation'\n",
    "test_img_dest = 'yolo/yolov5/dataset/images/test'\n",
    "test_label_dest = 'yolo/yolov5/dataset/labels/test'\n",
    "\n",
    "#remove current dataset\n",
    "remove_list = [train_img_dest,train_label_dest,valid_img_dest,valid_label_dest,test_img_dest,test_label_dest]\n",
    "\n",
    "for i in range(len(remove_list)): \n",
    "    liss = os.listdir(remove_list[i])\n",
    "    for j in range(len(liss)): \n",
    "        os.remove(remove_list[i]+'/'+liss[j])\n",
    "    \n",
    "\n",
    "# # train = 1200\n",
    "# # valid = 600\n",
    "# # test = 200\n",
    "train = 220\n",
    "valid = 50\n",
    "test = 50\n",
    "\n",
    "images = [ernie_images,dory_images,mix_front_images,mix_left_images,mix_right_images,front_images,left_images,right_images]\n",
    "labels = [ernie_labels,dory_labels,mix_front_labels,mix_left_labels,mix_right_labels,front_labels,left_labels,right_labels]\n",
    "\n",
    "for j in range(0,8): \n",
    "    image_path = images[j]\n",
    "    label_path = labels[j]\n",
    "    \n",
    "    print('copying: '+image_path+' '+label_path)\n",
    "    for i in range(train):\n",
    "        shutil.copy(image_path+str(i)+'.JPEG',train_img_dest) \n",
    "        shutil.copy(label_path+str(i)+'.txt',train_label_dest)\n",
    "        \n",
    "    for i in range(train,train+valid): \n",
    "        shutil.copy(image_path+str(i)+'.JPEG',valid_img_dest) \n",
    "        shutil.copy(label_path+str(i)+'.txt',valid_label_dest)\n",
    "        \n",
    "    for i in range(train+valid,train+valid+test): \n",
    "        shutil.copy(image_path+str(i)+'.JPEG',test_img_dest) \n",
    "        shutil.copy(label_path+str(i)+'.txt',test_label_dest)\n",
    "    \n",
    "print(\"Done\")"
   ]
  }
 ],
 "metadata": {
  "kernelspec": {
   "display_name": "Python 3",
   "language": "python",
   "name": "python3"
  },
  "language_info": {
   "codemirror_mode": {
    "name": "ipython",
    "version": 3
   },
   "file_extension": ".py",
   "mimetype": "text/x-python",
   "name": "python",
   "nbconvert_exporter": "python",
   "pygments_lexer": "ipython3",
   "version": "3.8.3"
  }
 },
 "nbformat": 4,
 "nbformat_minor": 4
}
